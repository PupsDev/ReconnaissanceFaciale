{
  "nbformat": 4,
  "nbformat_minor": 0,
  "metadata": {
    "colab": {
      "name": "ProjetFini.ipynb",
      "provenance": [],
      "collapsed_sections": []
    },
    "kernelspec": {
      "name": "python3",
      "display_name": "Python 3"
    },
    "language_info": {
      "name": "python"
    }
  },
  "cells": [
    {
      "cell_type": "code",
      "execution_count": 1,
      "metadata": {
        "colab": {
          "base_uri": "https://localhost:8080/",
          "height": 70
        },
        "id": "BePUoyEwqTTd",
        "outputId": "fab9da18-dc17-4dbd-870b-840320152fbe"
      },
      "outputs": [
        {
          "output_type": "stream",
          "name": "stdout",
          "text": [
            "Mounted at /content/gdrive/\n",
            "/content/gdrive/My Drive/Reconnaissance\n"
          ]
        },
        {
          "output_type": "execute_result",
          "data": {
            "application/vnd.google.colaboratory.intrinsic+json": {
              "type": "string"
            },
            "text/plain": [
              "'/content/gdrive/My Drive/Reconnaissance'"
            ]
          },
          "metadata": {},
          "execution_count": 1
        }
      ],
      "source": [
        "import matplotlib.pyplot as plt\n",
        "import numpy as np\n",
        "import os\n",
        "import scipy.io\n",
        "import cv2\n",
        "import sys\n",
        "from google.colab import drive\n",
        "\n",
        "drive.mount('/content/gdrive/')\n",
        "\n",
        "my_local_drive='/content/gdrive/My Drive/Reconnaissance'\n",
        "# Ajout du path pour les librairies, fonctions et données\n",
        "sys.path.append(my_local_drive)\n",
        "# Se positionner sur le répertoire associé\n",
        "%cd $my_local_drive\n",
        "\n",
        "%pwd"
      ]
    },
    {
      "cell_type": "markdown",
      "source": [
        "On charge notre dataset des étudiants d'imagine en gardant les (n-1) premiers donc 95 images sur 100 images. (Il y a 5 images par étudiant)"
      ],
      "metadata": {
        "id": "dob2JkLpqz5H"
      }
    },
    {
      "cell_type": "code",
      "source": [
        "n = 94\n",
        "\n",
        "imgs =[]\n",
        "\n",
        "#face 1 à n+1\n",
        "for i in range(1,n+1):\n",
        "    stri = 'imagine/croppedfaces64/face'+format(i, '03d')+'.jpg'\n",
        "    img =cv2.imread(stri)\n",
        "    gray = cv2.cvtColor(img, cv2.COLOR_BGR2GRAY)\n",
        "    gray = np.ndarray.flatten(gray)\n",
        "    imgs.append(gray)"
      ],
      "metadata": {
        "id": "iWn4fvQbqiGu"
      },
      "execution_count": 2,
      "outputs": []
    },
    {
      "cell_type": "markdown",
      "source": [
        "On transforme notre tableau d'image en numpy array et on enlève la moyenne des visage afin de centrer notre nuage de point et de pouvoir calculer une ACP. "
      ],
      "metadata": {
        "id": "EtfPh3owq_y4"
      }
    },
    {
      "cell_type": "code",
      "source": [
        "numpy_array = np.array(imgs)\n",
        "average = np.mean(numpy_array,axis=0)\n",
        "numpy_array = numpy_array - np.tile(average,(numpy_array.shape[0],1))\n",
        "transpose = numpy_array.T"
      ],
      "metadata": {
        "id": "AG-svY60rMTK"
      },
      "execution_count": 3,
      "outputs": []
    },
    {
      "cell_type": "markdown",
      "source": [
        "On calcule le SVD pour avoir les eigenfaces ( la matrice U )\n"
      ],
      "metadata": {
        "id": "yM1wvXZnrSTZ"
      }
    },
    {
      "cell_type": "code",
      "source": [
        "U, S, VT = np.linalg.svd(transpose,full_matrices=0)"
      ],
      "metadata": {
        "id": "xATAfgcAraKF"
      },
      "execution_count": 4,
      "outputs": []
    },
    {
      "cell_type": "markdown",
      "source": [
        "On va garder dans un premier temps nos n premiers rangs de la matrice U, donc elle n'est pas tronquée on a le maximum de précision. Peut-être trop compte tenu du bruit ?\n",
        "\n",
        "--> on passe de n à 6 -> mais reste à faire des tests plus précis en tenant compte du rappel et de la précision\n",
        "\n",
        "On va donc essayer de reconstruire un visage inconnu du dataset dans l'espace des visages connus.\n",
        "\n"
      ],
      "metadata": {
        "id": "-pdG0gMJrxY6"
      }
    },
    {
      "cell_type": "code",
      "source": [
        "r = 6\n",
        "\n",
        "#100 n'est pas dans le set\n",
        "\n",
        "filepath = 'imagine/croppedfaces64/face100.jpg'\n",
        "img =cv2.imread(filepath)\n",
        "gray = cv2.cvtColor(img, cv2.COLOR_BGR2GRAY)\n",
        "testFaceMS = np.ndarray.flatten(gray)-average\n",
        "\n",
        "\n",
        "reconFace =  average + U[:,:r]  @ U[:,:r].T @ testFaceMS\n",
        "img = plt.imshow(np.reshape(reconFace,(64,64)))\n",
        "img.set_cmap('gray')\n",
        "plt.title('r = ' + str(r))\n",
        "plt.axis('off')\n",
        "plt.show()\n"
      ],
      "metadata": {
        "colab": {
          "base_uri": "https://localhost:8080/",
          "height": 264
        },
        "id": "TKItG_FtrlHX",
        "outputId": "66c782d5-9d7b-4bfc-a86d-2443e9512559"
      },
      "execution_count": 49,
      "outputs": [
        {
          "output_type": "display_data",
          "data": {
            "image/png": "[encoded data removed]",
            "text/plain": [
              "<Figure size 432x288 with 1 Axes>"
            ]
          },
          "metadata": {
            "needs_background": "light"
          }
        }
      ]
    },
    {
      "cell_type": "markdown",
      "source": [
        "Dernière étape on calcule les poids de chaque image du dataset et on calcule la distance du visage inconnu à celui de tous les visages connus.\n"
      ],
      "metadata": {
        "id": "YIPA27E5sF5q"
      }
    },
    {
      "cell_type": "code",
      "source": [
        "seuil = 900\n",
        "\n",
        "w = testFaceMS @ U[:,:r]\n",
        "weights = []\n",
        "for ind,image in enumerate(numpy_array) :\n",
        "    weight = image @ U[:,:r]\n",
        "    dist = np.linalg.norm(weight-w)\n",
        "    if dist<seuil :\n",
        "      print(str(ind+1)+\":\"+str(dist))\n",
        "    weights.append(weight)\n"
      ],
      "metadata": {
        "id": "UncE0tgUsRsP"
      },
      "execution_count": 50,
      "outputs": []
    },
    {
      "cell_type": "markdown",
      "source": [
        "r=n seuil 3000 On voit qu'il y a beaucoup de faux positif ! \n",
        "\n",
        "\n",
        "r=6 seuil 900 Aucun faux positif !"
      ],
      "metadata": {
        "id": "Q9v0DAWFt9HB"
      }
    },
    {
      "cell_type": "markdown",
      "source": [
        "Autre cas un visage connu :\n"
      ],
      "metadata": {
        "id": "UxwXETg6scRh"
      }
    },
    {
      "cell_type": "code",
      "source": [
        "filepath = 'imagine/croppedfaces64/face090.jpg'\n",
        "img =cv2.imread(filepath)\n",
        "gray = cv2.cvtColor(img, cv2.COLOR_BGR2GRAY)\n",
        "testFaceMS = np.ndarray.flatten(gray)-average\n",
        "\n",
        "\n",
        "reconFace =  average + U[:,:r]  @ U[:,:r].T @ testFaceMS\n",
        "img = plt.imshow(np.reshape(reconFace,(64,64)))\n",
        "img.set_cmap('gray')\n",
        "plt.title('r = ' + str(r))\n",
        "plt.axis('off')\n",
        "plt.show()"
      ],
      "metadata": {
        "colab": {
          "base_uri": "https://localhost:8080/",
          "height": 264
        },
        "id": "V1eIvxansfDd",
        "outputId": "d2b7099d-7eb2-4cc3-cc64-9854f901715a"
      },
      "execution_count": 53,
      "outputs": [
        {
          "output_type": "display_data",
          "data": {
            "image/png": "[encoded data removed]",
            "text/plain": [
              "<Figure size 432x288 with 1 Axes>"
            ]
          },
          "metadata": {
            "needs_background": "light"
          }
        }
      ]
    },
    {
      "cell_type": "code",
      "source": [
        "w = testFaceMS @ U[:,:r]\n",
        "for ind, weight in enumerate(weights) :\n",
        "    dist = np.linalg.norm(weight-w)\n",
        "    if(dist < seuil):\n",
        "      print(str(ind+1)+\":\"+str(dist))"
      ],
      "metadata": {
        "colab": {
          "base_uri": "https://localhost:8080/"
        },
        "id": "p8e96EuDsqgL",
        "outputId": "841c07d8-4c22-4a12-eebe-7cca8a248479"
      },
      "execution_count": 54,
      "outputs": [
        {
          "output_type": "stream",
          "name": "stdout",
          "text": [
            "86:866.6206652975299\n",
            "87:361.80114010127613\n",
            "89:602.8677553851343\n",
            "90:0.0\n"
          ]
        }
      ]
    },
    {
      "cell_type": "markdown",
      "source": [
        "Avec un seuil de 3000 on peut reconnaître ce visage !\n",
        "Avec un seuil de 900 on reconnait 4/5 visage !\n"
      ],
      "metadata": {
        "id": "KTgRSOv3tkuH"
      }
    }
  ]
}